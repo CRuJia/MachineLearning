{
 "cells": [
  {
   "cell_type": "code",
   "execution_count": 89,
   "metadata": {},
   "outputs": [],
   "source": [
    "import os\n",
    "import numpy as np\n",
    "import struct\n",
    "import time"
   ]
  },
  {
   "cell_type": "code",
   "execution_count": 132,
   "metadata": {
    "pycharm": {
     "name": "#%%\n"
    }
   },
   "outputs": [],
   "source": [
    "def load_mnist(path, kind='train'):\n",
    "    \"\"\"Load MNIST data from `path`\"\"\"\n",
    "    labels_path = os.path.join(path,\n",
    "                               'MNIST_%s-labels-idx1-ubyte'\n",
    "                               % kind)\n",
    "    images_path = os.path.join(path,\n",
    "                               'MNIST_%s-images-idx3-ubyte'\n",
    "                               % kind)\n",
    "    with open(labels_path, 'rb') as lbpath:\n",
    "        magic, n = struct.unpack('>II',\n",
    "                                 lbpath.read(8))\n",
    "        labels = np.fromfile(lbpath,\n",
    "                             dtype=np.uint8)\n",
    "\n",
    "    with open(images_path, 'rb') as imgpath:\n",
    "        magic, num, rows, cols = struct.unpack('>IIII',\n",
    "                                               imgpath.read(16))\n",
    "        images = np.fromfile(imgpath,\n",
    "                             dtype=np.uint8).reshape(len(labels), 784)\n",
    "    X = images[labels<=1,:]\n",
    "    Y = []\n",
    "    labels = labels[labels<=1]\n",
    "    for y in labels:\n",
    "        if y==0:\n",
    "            Y.append(-1)\n",
    "        elif y==1:\n",
    "            Y.append(1)\n",
    "            \n",
    "\n",
    "    return X, np.array(Y)"
   ]
  },
  {
   "cell_type": "code",
   "execution_count": 133,
   "metadata": {
    "pycharm": {
     "name": "#%%\n"
    }
   },
   "outputs": [],
   "source": [
    "train_images, train_labels = load_mnist('../data')\n",
    "test_images, test_label = load_mnist('../data','t10k')"
   ]
  },
  {
   "cell_type": "code",
   "execution_count": 151,
   "metadata": {},
   "outputs": [],
   "source": [
    "def perceptron(data, label, iters=50):\n",
    "    \"\"\"\n",
    "    感知机训练过程。\n",
    "    data:\n",
    "    label:\n",
    "    iter:\n",
    "    \"\"\"\n",
    "    print('start to train...')\n",
    "    data = np.mat(data) #转换之后每个样本都是横向向量\n",
    "    label = np.mat(label).T\n",
    "    n,m = data.shape #m:单个样本维度，n:样本数量\n",
    "    w = np.zeros((1,m))\n",
    "    b = 0\n",
    "    #初始步长，也就是梯度下降速率\n",
    "    h = 0.0001\n",
    "    \n",
    "    for k in range(iters):\n",
    "        # sgd\n",
    "        for i in range(n):\n",
    "            xi = data[i]\n",
    "            yi = label[i]\n",
    "            if (-1*yi*(w*xi.T + b)) >=0:\n",
    "                w = w + h*yi*xi\n",
    "                b = b + h*yi\n",
    "        print('Round %d:%d training'%(k,iters))\n",
    "    return w,b\n",
    "    "
   ]
  },
  {
   "cell_type": "code",
   "execution_count": 152,
   "metadata": {},
   "outputs": [],
   "source": [
    "def model_test(data, label, w, b):\n",
    "    print('start to test')\n",
    "    data = np.mat(data)\n",
    "    label = np.mat(label).T\n",
    "    n,m = data.shape\n",
    "    errorCnt = 0\n",
    "    for i in range(n):\n",
    "        xi = data[i]\n",
    "        yi = label[i]\n",
    "        result = -1*yi*(w*xi.T + b)\n",
    "        if result >=0: errorCnt+1\n",
    "        \n",
    "    acc = 1-(errorCnt/n)\n",
    "    return acc"
   ]
  },
  {
   "cell_type": "code",
   "execution_count": 153,
   "metadata": {},
   "outputs": [],
   "source": [
    "# train_y = train_labels[train_labels<=1]\n",
    "# train_X = train_images[train_labels<=1,:]\n",
    "# test_y = test_label[test_label<=1]\n",
    "# test_X = test_images[test_label<=1,:]"
   ]
  },
  {
   "cell_type": "code",
   "execution_count": 154,
   "metadata": {},
   "outputs": [
    {
     "name": "stdout",
     "output_type": "stream",
     "text": [
      "start to train...\n",
      "Round 0:10 training\n",
      "Round 1:10 training\n",
      "Round 2:10 training\n",
      "Round 3:10 training\n",
      "Round 4:10 training\n",
      "Round 5:10 training\n",
      "Round 6:10 training\n",
      "Round 7:10 training\n",
      "Round 8:10 training\n",
      "Round 9:10 training\n",
      "start to test\n",
      "Acc:  1.0\n",
      "time span: 3.1431360244750977\n"
     ]
    }
   ],
   "source": [
    "start = time.time()\n",
    "w,b = perceptron(train_images, train_labels, iters=10)\n",
    "acc = model_test(test_images, test_label, w, b)\n",
    "end = time.time()\n",
    "print('Acc: ',acc)\n",
    "print('time span:', end-start)"
   ]
  },
  {
   "cell_type": "code",
   "execution_count": null,
   "metadata": {},
   "outputs": [],
   "source": []
  }
 ],
 "metadata": {
  "kernelspec": {
   "display_name": "Python 3",
   "language": "python",
   "name": "python3"
  },
  "language_info": {
   "codemirror_mode": {
    "name": "ipython",
    "version": 3
   },
   "file_extension": ".py",
   "mimetype": "text/x-python",
   "name": "python",
   "nbconvert_exporter": "python",
   "pygments_lexer": "ipython3",
   "version": "3.7.4"
  }
 },
 "nbformat": 4,
 "nbformat_minor": 1
}
